{
 "cells": [
  {
   "cell_type": "code",
   "execution_count": 1,
   "id": "acoustic-reality",
   "metadata": {},
   "outputs": [],
   "source": [
    "import sympy as smp\n",
    "import matplotlib.pyplot as plt\n",
    "import pandas as pd\n",
    "import numpy as np\n",
    "from IPython.display import HTML \n",
    "%matplotlib inline"
   ]
  },
  {
   "cell_type": "markdown",
   "id": "naked-tumor",
   "metadata": {},
   "source": [
    "Кинетическая энергия равна работе силы, которую необходимо приложить к телу для сообщения данной скорости.\n",
    "\n",
    "пусть количество израсходованного  за 1 сек топлива (кг/с):\n",
    "\n",
    "$ \\Delta m = \\dfrac{ dM_{топлива}}{dt}, кг/сек $\n",
    "\n",
    "\n",
    "какую работу нужно совершить чтобы разогнать массу $\\Delta m $ до скорости истечения $v$ ? \n",
    "\n",
    "$ \\Delta A =  \\dfrac{  v^2  \\cdot \\Delta m}{2} $\n",
    "\n",
    "\n",
    "работа, совершенная за еденицу времени - т.е. это ведь наша мощность $N$.\n",
    "\n",
    "$ N =  \\dfrac{  v^2  \\cdot \\Delta m}{2} $"
   ]
  },
  {
   "cell_type": "markdown",
   "id": "korean-turtle",
   "metadata": {},
   "source": [
    "Мощность известна - это величина постоянная и равна $0.5 МВт$ с учетом к.п.д. $\\eta = 0.5 $ это $N = 0.25 МВт$"
   ]
  },
  {
   "cell_type": "markdown",
   "id": "stopped-machine",
   "metadata": {},
   "source": [
    "Пусть нам неизвестны ни скорость истечения, ни масса, но мы знаем мощность которую мы можем тратить на разгон рабочего тела, и это $0.25МВт$\n",
    "\n",
    "$ v = \\sqrt { 2 \\dfrac{ N}{\\Delta m} } \\space  , или \\space расход \\space массы:  \\space \\Delta m = \\dfrac {2N}{v^2} = \\dfrac{2 \\cdot 250,000 \\space Вт} {(v (м/c))^2 }$"
   ]
  },
  {
   "cell_type": "markdown",
   "id": "creative-pharmacology",
   "metadata": {},
   "source": [
    "Проверка размерностей для расхода рабочего тела:\n",
    "\n",
    "$ \\dfrac { \\dfrac {кг \\cdot м^2 }{c^3} }{ \\dfrac{м^2}{c^2} } = \\dfrac{кг}{с}$"
   ]
  },
  {
   "cell_type": "markdown",
   "id": "pressing-error",
   "metadata": {},
   "source": [
    "Построим график зависимости $\\Delta m(v)$ при постоянной заданной мощности, a заодно и время потраченное на расход $20,000.00$ $кг$ рабочего тела"
   ]
  },
  {
   "cell_type": "code",
   "execution_count": 2,
   "id": "promotional-chorus",
   "metadata": {},
   "outputs": [
    {
     "data": {
      "text/html": [
       "<div>\n",
       "<style scoped>\n",
       "    .dataframe tbody tr th:only-of-type {\n",
       "        vertical-align: middle;\n",
       "    }\n",
       "\n",
       "    .dataframe tbody tr th {\n",
       "        vertical-align: top;\n",
       "    }\n",
       "\n",
       "    .dataframe thead th {\n",
       "        text-align: right;\n",
       "    }\n",
       "</style>\n",
       "<table border=\"1\" class=\"dataframe\">\n",
       "  <thead>\n",
       "    <tr style=\"text-align: right;\">\n",
       "      <th></th>\n",
       "      <th>delta_m(kg)</th>\n",
       "      <th>v(m/s)</th>\n",
       "      <th>time_(s)</th>\n",
       "      <th>time_(year)</th>\n",
       "    </tr>\n",
       "  </thead>\n",
       "  <tbody>\n",
       "    <tr>\n",
       "      <th>59</th>\n",
       "      <td>0.000139</td>\n",
       "      <td>60000</td>\n",
       "      <td>144000000.0</td>\n",
       "      <td>4.566210</td>\n",
       "    </tr>\n",
       "    <tr>\n",
       "      <th>60</th>\n",
       "      <td>0.000134</td>\n",
       "      <td>61000</td>\n",
       "      <td>148840000.0</td>\n",
       "      <td>4.719685</td>\n",
       "    </tr>\n",
       "    <tr>\n",
       "      <th>61</th>\n",
       "      <td>0.000130</td>\n",
       "      <td>62000</td>\n",
       "      <td>153760000.0</td>\n",
       "      <td>4.875698</td>\n",
       "    </tr>\n",
       "    <tr>\n",
       "      <th>62</th>\n",
       "      <td>0.000126</td>\n",
       "      <td>63000</td>\n",
       "      <td>158760000.0</td>\n",
       "      <td>5.034247</td>\n",
       "    </tr>\n",
       "    <tr>\n",
       "      <th>63</th>\n",
       "      <td>0.000122</td>\n",
       "      <td>64000</td>\n",
       "      <td>163840000.0</td>\n",
       "      <td>5.195332</td>\n",
       "    </tr>\n",
       "    <tr>\n",
       "      <th>64</th>\n",
       "      <td>0.000118</td>\n",
       "      <td>65000</td>\n",
       "      <td>169000000.0</td>\n",
       "      <td>5.358955</td>\n",
       "    </tr>\n",
       "    <tr>\n",
       "      <th>65</th>\n",
       "      <td>0.000115</td>\n",
       "      <td>66000</td>\n",
       "      <td>174240000.0</td>\n",
       "      <td>5.525114</td>\n",
       "    </tr>\n",
       "    <tr>\n",
       "      <th>66</th>\n",
       "      <td>0.000111</td>\n",
       "      <td>67000</td>\n",
       "      <td>179560000.0</td>\n",
       "      <td>5.693810</td>\n",
       "    </tr>\n",
       "    <tr>\n",
       "      <th>67</th>\n",
       "      <td>0.000108</td>\n",
       "      <td>68000</td>\n",
       "      <td>184960000.0</td>\n",
       "      <td>5.865043</td>\n",
       "    </tr>\n",
       "    <tr>\n",
       "      <th>68</th>\n",
       "      <td>0.000105</td>\n",
       "      <td>69000</td>\n",
       "      <td>190440000.0</td>\n",
       "      <td>6.038813</td>\n",
       "    </tr>\n",
       "    <tr>\n",
       "      <th>69</th>\n",
       "      <td>0.000102</td>\n",
       "      <td>70000</td>\n",
       "      <td>196000000.0</td>\n",
       "      <td>6.215119</td>\n",
       "    </tr>\n",
       "    <tr>\n",
       "      <th>70</th>\n",
       "      <td>0.000099</td>\n",
       "      <td>71000</td>\n",
       "      <td>201640000.0</td>\n",
       "      <td>6.393962</td>\n",
       "    </tr>\n",
       "    <tr>\n",
       "      <th>71</th>\n",
       "      <td>0.000096</td>\n",
       "      <td>72000</td>\n",
       "      <td>207360000.0</td>\n",
       "      <td>6.575342</td>\n",
       "    </tr>\n",
       "    <tr>\n",
       "      <th>72</th>\n",
       "      <td>0.000094</td>\n",
       "      <td>73000</td>\n",
       "      <td>213160000.0</td>\n",
       "      <td>6.759259</td>\n",
       "    </tr>\n",
       "    <tr>\n",
       "      <th>73</th>\n",
       "      <td>0.000091</td>\n",
       "      <td>74000</td>\n",
       "      <td>219040000.0</td>\n",
       "      <td>6.945713</td>\n",
       "    </tr>\n",
       "    <tr>\n",
       "      <th>74</th>\n",
       "      <td>0.000089</td>\n",
       "      <td>75000</td>\n",
       "      <td>225000000.0</td>\n",
       "      <td>7.134703</td>\n",
       "    </tr>\n",
       "    <tr>\n",
       "      <th>75</th>\n",
       "      <td>0.000087</td>\n",
       "      <td>76000</td>\n",
       "      <td>231040000.0</td>\n",
       "      <td>7.326230</td>\n",
       "    </tr>\n",
       "    <tr>\n",
       "      <th>76</th>\n",
       "      <td>0.000084</td>\n",
       "      <td>77000</td>\n",
       "      <td>237160000.0</td>\n",
       "      <td>7.520294</td>\n",
       "    </tr>\n",
       "    <tr>\n",
       "      <th>77</th>\n",
       "      <td>0.000082</td>\n",
       "      <td>78000</td>\n",
       "      <td>243360000.0</td>\n",
       "      <td>7.716895</td>\n",
       "    </tr>\n",
       "    <tr>\n",
       "      <th>78</th>\n",
       "      <td>0.000080</td>\n",
       "      <td>79000</td>\n",
       "      <td>249640000.0</td>\n",
       "      <td>7.916032</td>\n",
       "    </tr>\n",
       "    <tr>\n",
       "      <th>79</th>\n",
       "      <td>0.000078</td>\n",
       "      <td>80000</td>\n",
       "      <td>256000000.0</td>\n",
       "      <td>8.117707</td>\n",
       "    </tr>\n",
       "  </tbody>\n",
       "</table>\n",
       "</div>"
      ],
      "text/plain": [
       "    delta_m(kg)  v(m/s)     time_(s)  time_(year)\n",
       "59     0.000139   60000  144000000.0     4.566210\n",
       "60     0.000134   61000  148840000.0     4.719685\n",
       "61     0.000130   62000  153760000.0     4.875698\n",
       "62     0.000126   63000  158760000.0     5.034247\n",
       "63     0.000122   64000  163840000.0     5.195332\n",
       "64     0.000118   65000  169000000.0     5.358955\n",
       "65     0.000115   66000  174240000.0     5.525114\n",
       "66     0.000111   67000  179560000.0     5.693810\n",
       "67     0.000108   68000  184960000.0     5.865043\n",
       "68     0.000105   69000  190440000.0     6.038813\n",
       "69     0.000102   70000  196000000.0     6.215119\n",
       "70     0.000099   71000  201640000.0     6.393962\n",
       "71     0.000096   72000  207360000.0     6.575342\n",
       "72     0.000094   73000  213160000.0     6.759259\n",
       "73     0.000091   74000  219040000.0     6.945713\n",
       "74     0.000089   75000  225000000.0     7.134703\n",
       "75     0.000087   76000  231040000.0     7.326230\n",
       "76     0.000084   77000  237160000.0     7.520294\n",
       "77     0.000082   78000  243360000.0     7.716895\n",
       "78     0.000080   79000  249640000.0     7.916032\n",
       "79     0.000078   80000  256000000.0     8.117707"
      ]
     },
     "execution_count": 2,
     "metadata": {},
     "output_type": "execute_result"
    }
   ],
   "source": [
    "data = pd.DataFrame([(2 * 250_000/(v**2), v) for v in range(1000, 201_000, 1000)], \\\n",
    "                    columns=['delta_m(kg)', 'v(m/s)'])\n",
    "\n",
    "data['time_(s)'] = 20_000 / data['delta_m(kg)']\n",
    "\n",
    "data['time_(year)'] = data['time_(s)']/60/60/24/365 # 60секунд * 60минут * 24 часа * 365 дней\n",
    "\n",
    "data[(data['v(m/s)'] >=60000) & (data['v(m/s)'] <=80000)]"
   ]
  },
  {
   "cell_type": "code",
   "execution_count": 3,
   "id": "growing-ranch",
   "metadata": {},
   "outputs": [
    {
     "data": {
      "text/html": [
       "<h3>Время выработки всего топлива при скорости истечения 70 км/с составит: 6.215 года.</h3>"
      ],
      "text/plain": [
       "<IPython.core.display.HTML object>"
      ]
     },
     "metadata": {},
     "output_type": "display_data"
    }
   ],
   "source": [
    "time_end = round(data[data['v(m/s)'] == 70000]['time_(year)'].values[0],3)\n",
    "\n",
    "display(HTML(f'<h3>Время выработки всего топлива при скорости' + \\\n",
    "             f' истечения 70 км/с составит: {time_end} года.</h3>'))"
   ]
  },
  {
   "cell_type": "code",
   "execution_count": 4,
   "id": "alpine-drive",
   "metadata": {},
   "outputs": [
    {
     "data": {
      "image/png": "[encoded data removed]",
      "text/plain": [
       "<Figure size 720x504 with 1 Axes>"
      ]
     },
     "metadata": {
      "needs_background": "light"
     },
     "output_type": "display_data"
    }
   ],
   "source": [
    "plt.figure(figsize=(10,7))\n",
    "plt.xlabel('Скорость истечения (м/с)')\n",
    "plt.ylabel('Скорость выработки топлива (года)')\n",
    "plt.grid(True)\n",
    "plt.title(\"\"\"\n",
    "Зависимость времени работы орбитального буксира\n",
    "от скорости истечения рабочего тела,\n",
    "при условии постоянной мощности реактора $N = 0.5 МВт$\n",
    "и к.п.д. $\\eta = 0.5$, т.е. по факту 0.25МВт\n",
    "\"\"\")\n",
    "plt.axvline(70000, color='red', label='70 км/с')\n",
    "plt.axhline(time_end, color='green', label = f'{time_end} года')\n",
    "plt.plot(data['v(m/s)'], data['time_(year)'])\n",
    "plt.legend();"
   ]
  },
  {
   "cell_type": "markdown",
   "id": "suburban-industry",
   "metadata": {},
   "source": [
    "#### применим формулу Циолковского для расчета максимального приращения скорости в случае \n",
    "- Сорость истечения - 70 км/с, буксир полная масса 35, топливо 20 (за 6.3 лет разгона)\n",
    "- Сорость истечения - 70 км/с, буксир полная масса 55, топливо 20 (за 6.3 лет разгона)\n",
    "- Сорость истечения - 200 км/с, буксир полная масса 35, топливо 20 (за 50 лет разгона)\n",
    "- Сорость истечения - 200 км/с, буксир полная масса 55, топливо 20 (за 50 лет разгона)\n",
    "\n",
    "\n",
    "$ V_{конечная} = V_{истечения} \\cdot \\ln \\left( \\dfrac{M_{полная}}{ M_{полная} - M_{топлива}} \\right) $"
   ]
  },
  {
   "cell_type": "code",
   "execution_count": 5,
   "id": "fallen-rover",
   "metadata": {},
   "outputs": [],
   "source": [
    "def calc_v_end(v, m_start, m_fuel ): \n",
    "    \"\"\"\n",
    "        v - скорость истечения\n",
    "        m_start - начальная масса\n",
    "        m_fuel - масса топлива\n",
    "    \"\"\"\n",
    "    print(f'Скорость истечения: {v} км/с')\n",
    "    print(f'Сухая масса (включая полезную нагрузку): {m_start-m_fuel} т')\n",
    "    print(f'Начальная масса: {m_start} т')\n",
    "    print(f'Масса топлива: {m_fuel} т')\n",
    "    v_end = v*np.log(m_start/(m_start-m_fuel))\n",
    "    display(HTML(f'Полное приращение скорости после расхода всего топлива: <b>{np.round(v_end,5)} км/с</b>'))\n",
    "    \n",
    "    return v_end"
   ]
  },
  {
   "cell_type": "code",
   "execution_count": 6,
   "id": "above-summary",
   "metadata": {},
   "outputs": [
    {
     "name": "stdout",
     "output_type": "stream",
     "text": [
      "Скорость истечения: 70 км/с\n",
      "Сухая масса (включая полезную нагрузку): 15 т\n",
      "Начальная масса: 35 т\n",
      "Масса топлива: 20 т\n"
     ]
    },
    {
     "data": {
      "text/html": [
       "Полное приращение скорости после расхода всего топлива: <b>59.31085 км/с</b>"
      ],
      "text/plain": [
       "<IPython.core.display.HTML object>"
      ]
     },
     "metadata": {},
     "output_type": "display_data"
    }
   ],
   "source": [
    "calc_v_end(70, 35, 20);"
   ]
  },
  {
   "cell_type": "code",
   "execution_count": 7,
   "id": "personalized-event",
   "metadata": {},
   "outputs": [
    {
     "name": "stdout",
     "output_type": "stream",
     "text": [
      "Скорость истечения: 70 км/с\n",
      "Сухая масса (включая полезную нагрузку): 35 т\n",
      "Начальная масса: 55 т\n",
      "Масса топлива: 20 т\n"
     ]
    },
    {
     "data": {
      "text/html": [
       "Полное приращение скорости после расхода всего топлива: <b>31.63896 км/с</b>"
      ],
      "text/plain": [
       "<IPython.core.display.HTML object>"
      ]
     },
     "metadata": {},
     "output_type": "display_data"
    }
   ],
   "source": [
    "calc_v_end(70, 55, 20);"
   ]
  },
  {
   "cell_type": "code",
   "execution_count": 8,
   "id": "stainless-midwest",
   "metadata": {},
   "outputs": [
    {
     "name": "stdout",
     "output_type": "stream",
     "text": [
      "Скорость истечения: 200 км/с\n",
      "Сухая масса (включая полезную нагрузку): 15 т\n",
      "Начальная масса: 35 т\n",
      "Масса топлива: 20 т\n"
     ]
    },
    {
     "data": {
      "text/html": [
       "Полное приращение скорости после расхода всего топлива: <b>169.45957 км/с</b>"
      ],
      "text/plain": [
       "<IPython.core.display.HTML object>"
      ]
     },
     "metadata": {},
     "output_type": "display_data"
    }
   ],
   "source": [
    "calc_v_end(200, 35, 20);\n"
   ]
  },
  {
   "cell_type": "code",
   "execution_count": 9,
   "id": "blind-namibia",
   "metadata": {},
   "outputs": [
    {
     "name": "stdout",
     "output_type": "stream",
     "text": [
      "Скорость истечения: 200 км/с\n",
      "Сухая масса (включая полезную нагрузку): 35 т\n",
      "Начальная масса: 55 т\n",
      "Масса топлива: 20 т\n"
     ]
    },
    {
     "data": {
      "text/html": [
       "Полное приращение скорости после расхода всего топлива: <b>90.39702 км/с</b>"
      ],
      "text/plain": [
       "<IPython.core.display.HTML object>"
      ]
     },
     "metadata": {},
     "output_type": "display_data"
    }
   ],
   "source": [
    "calc_v_end(200, 55, 20);"
   ]
  },
  {
   "cell_type": "code",
   "execution_count": null,
   "id": "noble-fleece",
   "metadata": {},
   "outputs": [],
   "source": []
  },
  {
   "cell_type": "code",
   "execution_count": null,
   "id": "external-laser",
   "metadata": {},
   "outputs": [],
   "source": []
  }
 ],
 "metadata": {
  "kernelspec": {
   "display_name": "Python 3",
   "language": "python",
   "name": "python3"
  },
  "language_info": {
   "codemirror_mode": {
    "name": "ipython",
    "version": 3
   },
   "file_extension": ".py",
   "mimetype": "text/x-python",
   "name": "python",
   "nbconvert_exporter": "python",
   "pygments_lexer": "ipython3",
   "version": "3.7.9"
  }
 },
 "nbformat": 4,
 "nbformat_minor": 5
}
