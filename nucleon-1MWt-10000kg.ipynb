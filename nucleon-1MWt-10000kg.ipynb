{
 "cells": [
  {
   "cell_type": "code",
   "execution_count": 1,
   "id": "acoustic-reality",
   "metadata": {},
   "outputs": [],
   "source": [
    "import sympy as smp\n",
    "import matplotlib.pyplot as plt\n",
    "import pandas as pd\n",
    "import numpy as np\n",
    "from IPython.display import HTML \n",
    "%matplotlib inline"
   ]
  },
  {
   "cell_type": "markdown",
   "id": "naked-tumor",
   "metadata": {},
   "source": [
    "Кинетическая энергия равна работе силы, которую необходимо приложить к телу для сообщения данной скорости.\n",
    "\n",
    "пусть количество израсходованного  за 1 сек топлива (кг/с):\n",
    "\n",
    "$ \\Delta m = \\dfrac{ dM_{топлива}}{dt}, кг/сек $\n",
    "\n",
    "\n",
    "какую работу нужно совершить чтобы разогнать массу $\\Delta m $ до скорости истечения $v$ ? \n",
    "\n",
    "$ \\Delta A =  \\dfrac{  v^2  \\cdot \\Delta m}{2} $\n",
    "\n",
    "\n",
    "работа, совершенная за еденицу времени - т.е. это ведь наша мощность $N$.\n",
    "\n",
    "$ N =  \\dfrac{  v^2  \\cdot \\Delta m}{2} $"
   ]
  },
  {
   "cell_type": "markdown",
   "id": "korean-turtle",
   "metadata": {},
   "source": [
    "Мощность известна - это величина постоянная и равна $1.0 МВт$ с учетом к.п.д. $\\eta = 0.5 $ это $N = 0.5 МВт$"
   ]
  },
  {
   "cell_type": "markdown",
   "id": "stopped-machine",
   "metadata": {},
   "source": [
    "Пусть нам неизвестны ни скорость истечения, ни масса, но мы знаем мощность которую мы можем тратить на разгон рабочего тела, и это $0.5МВт$\n",
    "\n",
    "$ v = \\sqrt { 2 \\dfrac{ N}{\\Delta m} } \\space  , или \\space расход \\space массы:  \\space \\Delta m = \\dfrac {2N}{v^2} = \\dfrac{2 \\cdot 500,000 \\space Вт} {(v (м/c))^2 }$"
   ]
  },
  {
   "cell_type": "markdown",
   "id": "creative-pharmacology",
   "metadata": {},
   "source": [
    "Проверка размерностей для расхода рабочего тела:\n",
    "\n",
    "$ \\dfrac { \\dfrac {кг \\cdot м^2 }{c^3} }{ \\dfrac{м^2}{c^2} } = \\dfrac{кг}{с}$"
   ]
  },
  {
   "cell_type": "markdown",
   "id": "pressing-error",
   "metadata": {},
   "source": [
    "Построим график зависимости $\\Delta m(v)$ при постоянной заданной мощности, a заодно и время потраченное на расход $10,000.00$ $кг$ рабочего тела"
   ]
  },
  {
   "cell_type": "code",
   "execution_count": 2,
   "id": "promotional-chorus",
   "metadata": {},
   "outputs": [
    {
     "data": {
      "text/html": [
       "<div>\n",
       "<style scoped>\n",
       "    .dataframe tbody tr th:only-of-type {\n",
       "        vertical-align: middle;\n",
       "    }\n",
       "\n",
       "    .dataframe tbody tr th {\n",
       "        vertical-align: top;\n",
       "    }\n",
       "\n",
       "    .dataframe thead th {\n",
       "        text-align: right;\n",
       "    }\n",
       "</style>\n",
       "<table border=\"1\" class=\"dataframe\">\n",
       "  <thead>\n",
       "    <tr style=\"text-align: right;\">\n",
       "      <th></th>\n",
       "      <th>delta_m(kg)</th>\n",
       "      <th>v(m/s)</th>\n",
       "      <th>time_(s)</th>\n",
       "      <th>time_(year)</th>\n",
       "    </tr>\n",
       "  </thead>\n",
       "  <tbody>\n",
       "    <tr>\n",
       "      <th>59</th>\n",
       "      <td>0.000278</td>\n",
       "      <td>60000</td>\n",
       "      <td>36000000.0</td>\n",
       "      <td>1.141553</td>\n",
       "    </tr>\n",
       "    <tr>\n",
       "      <th>60</th>\n",
       "      <td>0.000269</td>\n",
       "      <td>61000</td>\n",
       "      <td>37210000.0</td>\n",
       "      <td>1.179921</td>\n",
       "    </tr>\n",
       "    <tr>\n",
       "      <th>61</th>\n",
       "      <td>0.000260</td>\n",
       "      <td>62000</td>\n",
       "      <td>38440000.0</td>\n",
       "      <td>1.218924</td>\n",
       "    </tr>\n",
       "    <tr>\n",
       "      <th>62</th>\n",
       "      <td>0.000252</td>\n",
       "      <td>63000</td>\n",
       "      <td>39690000.0</td>\n",
       "      <td>1.258562</td>\n",
       "    </tr>\n",
       "    <tr>\n",
       "      <th>63</th>\n",
       "      <td>0.000244</td>\n",
       "      <td>64000</td>\n",
       "      <td>40960000.0</td>\n",
       "      <td>1.298833</td>\n",
       "    </tr>\n",
       "    <tr>\n",
       "      <th>64</th>\n",
       "      <td>0.000237</td>\n",
       "      <td>65000</td>\n",
       "      <td>42250000.0</td>\n",
       "      <td>1.339739</td>\n",
       "    </tr>\n",
       "    <tr>\n",
       "      <th>65</th>\n",
       "      <td>0.000230</td>\n",
       "      <td>66000</td>\n",
       "      <td>43560000.0</td>\n",
       "      <td>1.381279</td>\n",
       "    </tr>\n",
       "    <tr>\n",
       "      <th>66</th>\n",
       "      <td>0.000223</td>\n",
       "      <td>67000</td>\n",
       "      <td>44890000.0</td>\n",
       "      <td>1.423453</td>\n",
       "    </tr>\n",
       "    <tr>\n",
       "      <th>67</th>\n",
       "      <td>0.000216</td>\n",
       "      <td>68000</td>\n",
       "      <td>46240000.0</td>\n",
       "      <td>1.466261</td>\n",
       "    </tr>\n",
       "    <tr>\n",
       "      <th>68</th>\n",
       "      <td>0.000210</td>\n",
       "      <td>69000</td>\n",
       "      <td>47610000.0</td>\n",
       "      <td>1.509703</td>\n",
       "    </tr>\n",
       "    <tr>\n",
       "      <th>69</th>\n",
       "      <td>0.000204</td>\n",
       "      <td>70000</td>\n",
       "      <td>49000000.0</td>\n",
       "      <td>1.553780</td>\n",
       "    </tr>\n",
       "    <tr>\n",
       "      <th>70</th>\n",
       "      <td>0.000198</td>\n",
       "      <td>71000</td>\n",
       "      <td>50410000.0</td>\n",
       "      <td>1.598491</td>\n",
       "    </tr>\n",
       "    <tr>\n",
       "      <th>71</th>\n",
       "      <td>0.000193</td>\n",
       "      <td>72000</td>\n",
       "      <td>51840000.0</td>\n",
       "      <td>1.643836</td>\n",
       "    </tr>\n",
       "    <tr>\n",
       "      <th>72</th>\n",
       "      <td>0.000188</td>\n",
       "      <td>73000</td>\n",
       "      <td>53290000.0</td>\n",
       "      <td>1.689815</td>\n",
       "    </tr>\n",
       "    <tr>\n",
       "      <th>73</th>\n",
       "      <td>0.000183</td>\n",
       "      <td>74000</td>\n",
       "      <td>54760000.0</td>\n",
       "      <td>1.736428</td>\n",
       "    </tr>\n",
       "    <tr>\n",
       "      <th>74</th>\n",
       "      <td>0.000178</td>\n",
       "      <td>75000</td>\n",
       "      <td>56250000.0</td>\n",
       "      <td>1.783676</td>\n",
       "    </tr>\n",
       "    <tr>\n",
       "      <th>75</th>\n",
       "      <td>0.000173</td>\n",
       "      <td>76000</td>\n",
       "      <td>57760000.0</td>\n",
       "      <td>1.831558</td>\n",
       "    </tr>\n",
       "    <tr>\n",
       "      <th>76</th>\n",
       "      <td>0.000169</td>\n",
       "      <td>77000</td>\n",
       "      <td>59290000.0</td>\n",
       "      <td>1.880074</td>\n",
       "    </tr>\n",
       "    <tr>\n",
       "      <th>77</th>\n",
       "      <td>0.000164</td>\n",
       "      <td>78000</td>\n",
       "      <td>60840000.0</td>\n",
       "      <td>1.929224</td>\n",
       "    </tr>\n",
       "    <tr>\n",
       "      <th>78</th>\n",
       "      <td>0.000160</td>\n",
       "      <td>79000</td>\n",
       "      <td>62410000.0</td>\n",
       "      <td>1.979008</td>\n",
       "    </tr>\n",
       "    <tr>\n",
       "      <th>79</th>\n",
       "      <td>0.000156</td>\n",
       "      <td>80000</td>\n",
       "      <td>64000000.0</td>\n",
       "      <td>2.029427</td>\n",
       "    </tr>\n",
       "  </tbody>\n",
       "</table>\n",
       "</div>"
      ],
      "text/plain": [
       "    delta_m(kg)  v(m/s)    time_(s)  time_(year)\n",
       "59     0.000278   60000  36000000.0     1.141553\n",
       "60     0.000269   61000  37210000.0     1.179921\n",
       "61     0.000260   62000  38440000.0     1.218924\n",
       "62     0.000252   63000  39690000.0     1.258562\n",
       "63     0.000244   64000  40960000.0     1.298833\n",
       "64     0.000237   65000  42250000.0     1.339739\n",
       "65     0.000230   66000  43560000.0     1.381279\n",
       "66     0.000223   67000  44890000.0     1.423453\n",
       "67     0.000216   68000  46240000.0     1.466261\n",
       "68     0.000210   69000  47610000.0     1.509703\n",
       "69     0.000204   70000  49000000.0     1.553780\n",
       "70     0.000198   71000  50410000.0     1.598491\n",
       "71     0.000193   72000  51840000.0     1.643836\n",
       "72     0.000188   73000  53290000.0     1.689815\n",
       "73     0.000183   74000  54760000.0     1.736428\n",
       "74     0.000178   75000  56250000.0     1.783676\n",
       "75     0.000173   76000  57760000.0     1.831558\n",
       "76     0.000169   77000  59290000.0     1.880074\n",
       "77     0.000164   78000  60840000.0     1.929224\n",
       "78     0.000160   79000  62410000.0     1.979008\n",
       "79     0.000156   80000  64000000.0     2.029427"
      ]
     },
     "execution_count": 2,
     "metadata": {},
     "output_type": "execute_result"
    }
   ],
   "source": [
    "# сгенерируем данные для графика\n",
    "data = pd.DataFrame([(2 * 500_000/(v**2), v) for v in range(1000, 201_000, 1000)], \\\n",
    "                    columns=['delta_m(kg)', 'v(m/s)'])\n",
    "\n",
    "data['time_(s)'] = 10_000 / data['delta_m(kg)'] # время в секундах, чтобы израсходовать все топливо\n",
    "\n",
    "data['time_(year)'] = data['time_(s)']/60/60/24/365 # 60секунд * 60минут * 24 часа * 365 дней - время в годах\n",
    "\n",
    "data[(data['v(m/s)'] >=60000) & (data['v(m/s)'] <=80000)]"
   ]
  },
  {
   "cell_type": "code",
   "execution_count": 3,
   "id": "growing-ranch",
   "metadata": {},
   "outputs": [
    {
     "data": {
      "text/html": [
       "<h3>Время выработки всего топлива при скорости истечения 70 км/с составит: 1.554 года.</h3>"
      ],
      "text/plain": [
       "<IPython.core.display.HTML object>"
      ]
     },
     "metadata": {},
     "output_type": "display_data"
    }
   ],
   "source": [
    "time_end = round(data[data['v(m/s)'] == 70000]['time_(year)'].values[0],3)\n",
    "\n",
    "display(HTML(f'<h3>Время выработки всего топлива при скорости' + \\\n",
    "             f' истечения 70 км/с составит: {time_end} года.</h3>'))"
   ]
  },
  {
   "cell_type": "code",
   "execution_count": 4,
   "id": "alpine-drive",
   "metadata": {},
   "outputs": [
    {
     "data": {
      "image/png": "[encoded data removed]",
      "text/plain": [
       "<Figure size 720x504 with 1 Axes>"
      ]
     },
     "metadata": {
      "needs_background": "light"
     },
     "output_type": "display_data"
    }
   ],
   "source": [
    "plt.figure(figsize=(10,7))\n",
    "plt.xlabel('Скорость истечения (м/с)')\n",
    "plt.ylabel('Скорость выработки топлива (года)')\n",
    "plt.grid(True)\n",
    "plt.title(\"\"\"\n",
    "Зависимость времени работы орбитального буксира\n",
    "от скорости истечения рабочего тела,\n",
    "при условии постоянной мощности реактора $N = 1.0 МВт$\n",
    "и к.п.д. $\\eta = 0.5$, т.е. по факту 0.5МВт\n",
    "\"\"\")\n",
    "plt.axvline(70000, color='red', label='70 км/с')\n",
    "plt.axhline(time_end, color='green', label = f'{time_end} года')\n",
    "plt.plot(data['v(m/s)'], data['time_(year)'])\n",
    "plt.legend();"
   ]
  },
  {
   "cell_type": "markdown",
   "id": "suburban-industry",
   "metadata": {},
   "source": [
    "#### применим формулу Циолковского для расчета максимального приращения скорости в случае \n",
    "- Сорость истечения - 70 км/с, буксир полная масса 35, топливо 10т (за 1.5 лет разгона)\n",
    "- Сорость истечения - 70 км/с, буксир полная масса 55, топливо 10т (за 1.5 лет разгона)\n",
    "- Сорость истечения - 200 км/с, буксир полная масса 35, топливо 10т (за 12.5 лет разгона)\n",
    "- Сорость истечения - 200 км/с, буксир полная масса 55, топливо 10т (за 12.5 лет разгона)\n",
    "\n",
    "\n",
    "$ V_{конечная} = V_{истечения} \\cdot \\ln \\left( \\dfrac{M_{полная}}{ M_{полная} - M_{топлива}} \\right) $"
   ]
  },
  {
   "cell_type": "code",
   "execution_count": 5,
   "id": "fallen-rover",
   "metadata": {},
   "outputs": [],
   "source": [
    "def calc_v_end(v, m_start, m_fuel ): \n",
    "    \"\"\"\n",
    "        v - скорость истечения\n",
    "        m_start - начальная масса\n",
    "        m_fuel - масса топлива\n",
    "    \"\"\"\n",
    "    print(f'Скорость истечения: {v} км/с')\n",
    "    print(f'Сухая масса (включая полезную нагрузку): {m_start-m_fuel} т')\n",
    "    print(f'Начальная масса: {m_start} т')\n",
    "    print(f'Масса топлива: {m_fuel} т')\n",
    "    v_end = v*np.log(m_start/(m_start-m_fuel))\n",
    "    display(HTML(f'Полное приращение скорости после расхода всего топлива: <b>{np.round(v_end,5)} км/с</b>'))\n",
    "    \n",
    "    return v_end"
   ]
  },
  {
   "cell_type": "markdown",
   "id": "communist-hardware",
   "metadata": {},
   "source": [
    "Для справки:\n",
    "- Первая космическая скорость Земли - 7.9 км/с.\n",
    "- Вторая космическая скорость Земли - 11.2 км/с.\n",
    "- 11.2 - 7.9 = 3.3"
   ]
  },
  {
   "cell_type": "code",
   "execution_count": 6,
   "id": "focused-degree",
   "metadata": {},
   "outputs": [
    {
     "data": {
      "text/plain": [
       "('Чтобы слетать к Луне нужно изменить скорость на: ', 3.299999999999999)"
      ]
     },
     "execution_count": 6,
     "metadata": {},
     "output_type": "execute_result"
    }
   ],
   "source": [
    "'Чтобы слетать к Луне нужно изменить скорость на: ', 11.2 - 7.9"
   ]
  },
  {
   "cell_type": "code",
   "execution_count": 7,
   "id": "above-summary",
   "metadata": {},
   "outputs": [
    {
     "name": "stdout",
     "output_type": "stream",
     "text": [
      "Скорость истечения: 70 км/с\n",
      "Сухая масса (включая полезную нагрузку): 25 т\n",
      "Начальная масса: 35 т\n",
      "Масса топлива: 10 т\n"
     ]
    },
    {
     "data": {
      "text/html": [
       "Полное приращение скорости после расхода всего топлива: <b>23.55306 км/с</b>"
      ],
      "text/plain": [
       "<IPython.core.display.HTML object>"
      ]
     },
     "metadata": {},
     "output_type": "display_data"
    }
   ],
   "source": [
    "calc_v_end(70, 35, 10); # за 1.5 года"
   ]
  },
  {
   "cell_type": "code",
   "execution_count": 8,
   "id": "personalized-event",
   "metadata": {},
   "outputs": [
    {
     "name": "stdout",
     "output_type": "stream",
     "text": [
      "Скорость истечения: 70 км/с\n",
      "Сухая масса (включая полезную нагрузку): 45 т\n",
      "Начальная масса: 55 т\n",
      "Масса топлива: 10 т\n"
     ]
    },
    {
     "data": {
      "text/html": [
       "Полное приращение скорости после расхода всего топлива: <b>14.04695 км/с</b>"
      ],
      "text/plain": [
       "<IPython.core.display.HTML object>"
      ]
     },
     "metadata": {},
     "output_type": "display_data"
    }
   ],
   "source": [
    "calc_v_end(70, 55, 10); # за 1.5 года, реально сгонять до Луны, затормозить, разгрузиться, и обратно порожняком.\n",
    "                        # или наоборот, порожняком к Луне, загрузиться и назад.\n",
    "                        # 35т - вес аппарата, 10т вес груз, 10т - топливо"
   ]
  },
  {
   "cell_type": "code",
   "execution_count": 9,
   "id": "stainless-midwest",
   "metadata": {},
   "outputs": [
    {
     "name": "stdout",
     "output_type": "stream",
     "text": [
      "Скорость истечения: 200 км/с\n",
      "Сухая масса (включая полезную нагрузку): 25 т\n",
      "Начальная масса: 35 т\n",
      "Масса топлива: 10 т\n"
     ]
    },
    {
     "data": {
      "text/html": [
       "Полное приращение скорости после расхода всего топлива: <b>67.29445 км/с</b>"
      ],
      "text/plain": [
       "<IPython.core.display.HTML object>"
      ]
     },
     "metadata": {},
     "output_type": "display_data"
    }
   ],
   "source": [
    "calc_v_end(200, 35, 10); # за 12.5 лет"
   ]
  },
  {
   "cell_type": "code",
   "execution_count": 10,
   "id": "blind-namibia",
   "metadata": {},
   "outputs": [
    {
     "name": "stdout",
     "output_type": "stream",
     "text": [
      "Скорость истечения: 200 км/с\n",
      "Сухая масса (включая полезную нагрузку): 45 т\n",
      "Начальная масса: 55 т\n",
      "Масса топлива: 10 т\n"
     ]
    },
    {
     "data": {
      "text/html": [
       "Полное приращение скорости после расхода всего топлива: <b>40.13414 км/с</b>"
      ],
      "text/plain": [
       "<IPython.core.display.HTML object>"
      ]
     },
     "metadata": {},
     "output_type": "display_data"
    }
   ],
   "source": [
    "calc_v_end(200, 55, 10); # за 12.5 лет"
   ]
  },
  {
   "cell_type": "markdown",
   "id": "verbal-setting",
   "metadata": {},
   "source": [
    " "
   ]
  },
  {
   "cell_type": "markdown",
   "id": "weighted-technology",
   "metadata": {},
   "source": [
    " "
   ]
  },
  {
   "cell_type": "markdown",
   "id": "fallen-incident",
   "metadata": {},
   "source": [
    " "
   ]
  },
  {
   "cell_type": "markdown",
   "id": "confused-somalia",
   "metadata": {},
   "source": [
    "**Замена полезной нагрузки на топливо**"
   ]
  },
  {
   "cell_type": "code",
   "execution_count": 11,
   "id": "swedish-coupon",
   "metadata": {},
   "outputs": [
    {
     "name": "stdout",
     "output_type": "stream",
     "text": [
      "Скорость истечения: 200 км/с\n",
      "Сухая масса (включая полезную нагрузку): 35 т\n",
      "Начальная масса: 55 т\n",
      "Масса топлива: 20 т\n"
     ]
    },
    {
     "data": {
      "text/html": [
       "Полное приращение скорости после расхода всего топлива: <b>90.39702 км/с</b>"
      ],
      "text/plain": [
       "<IPython.core.display.HTML object>"
      ]
     },
     "metadata": {},
     "output_type": "display_data"
    }
   ],
   "source": [
    "calc_v_end(200, 55, 20); # за 25 лет"
   ]
  },
  {
   "cell_type": "code",
   "execution_count": null,
   "id": "perceived-terry",
   "metadata": {},
   "outputs": [],
   "source": []
  }
 ],
 "metadata": {
  "kernelspec": {
   "display_name": "Python 3",
   "language": "python",
   "name": "python3"
  },
  "language_info": {
   "codemirror_mode": {
    "name": "ipython",
    "version": 3
   },
   "file_extension": ".py",
   "mimetype": "text/x-python",
   "name": "python",
   "nbconvert_exporter": "python",
   "pygments_lexer": "ipython3",
   "version": "3.7.9"
  }
 },
 "nbformat": 4,
 "nbformat_minor": 5
}
